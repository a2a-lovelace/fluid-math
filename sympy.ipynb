{
  "nbformat": 4,
  "nbformat_minor": 0,
  "metadata": {
    "colab": {
      "provenance": [],
      "authorship_tag": "ABX9TyOGTP1TnRv3K/TqO9qdbKvq"
    },
    "kernelspec": {
      "name": "python3",
      "display_name": "Python 3"
    },
    "language_info": {
      "name": "python"
    }
  },
  "cells": [
    {
      "cell_type": "markdown",
      "source": [
        "# Лабораторная работа №1. Дифференциальные операторы. Скорость и ускорение жидкой частицы\n"
      ],
      "metadata": {
        "id": "5k_BPilnbX4G"
      }
    },
    {
      "cell_type": "code",
      "source": [
        "!pip install sympy"
      ],
      "metadata": {
        "id": "ZzohRse_bKYd"
      },
      "execution_count": null,
      "outputs": []
    },
    {
      "cell_type": "code",
      "execution_count": 5,
      "metadata": {
        "colab": {
          "base_uri": "https://localhost:8080/",
          "height": 78
        },
        "id": "Ul-Iridea9Hc",
        "outputId": "44d66749-80c6-432f-c309-6a2c57f8d1ba"
      },
      "outputs": [
        {
          "output_type": "execute_result",
          "data": {
            "text/plain": [
              "⎡     y     ⎤\n",
              "⎢           ⎥\n",
              "⎢     0     ⎥\n",
              "⎢           ⎥\n",
              "⎣t⋅y + x + z⎦"
            ],
            "text/latex": "$\\displaystyle \\left[\\begin{matrix}y\\\\0\\\\t y + x + z\\end{matrix}\\right]$"
          },
          "metadata": {},
          "execution_count": 5
        }
      ],
      "source": [
        "import sympy as sp # подключаем библиотеку Sympy для символьных вычислений\n",
        "sp.init_printing() # инициируем красивый вывод\n",
        "\n",
        "# Вводим символьные переменные\n",
        "x, y, z, t = sp.symbols('x y z t')\n",
        "\n",
        "# Вводим наш вектор скорости, v = (yt, 0, x+z) или другие (xt,z,y) (zy,0,x) (y,0,x)\n",
        "u = sp.Matrix([y*t, 0, x + z])\n",
        "\n",
        "# Находим 1) временное локальное ускорение = частная производная по времени\n",
        "local_acceleration = u.diff(t)\n",
        "\n",
        "# Находим 2) градиент,чтобы выяснить конвективное~пространственное ускорение в ходе движения жидкости\n",
        "gradient_u = u.jacobian([x, y, z, t])\n",
        "\n",
        "convective_acceleration_x = u[0]*gradient_u[0,0] + u[1]*gradient_u[0,1] + u[2]*gradient_u[0,2]\n",
        "convective_acceleration_y = u[0]*gradient_u[1,0] + u[1]*gradient_u[1,1] + u[2]*gradient_u[1,2]\n",
        "convective_acceleration_z = u[0]*gradient_u[2,0] + u[1]*gradient_u[2,1] + u[2]*gradient_u[2,2]\n",
        "\n",
        "convective_acceleration = sp.Matrix([convective_acceleration_x, convective_acceleration_y, convective_acceleration_z])\n",
        "\n",
        "# Суммируем обе части: 1) и 2)\n",
        "total_acceleration = local_acceleration + convective_acceleration\n",
        "total_acceleration"
      ]
    },
    {
      "cell_type": "markdown",
      "source": [
        "1. Частная производная по времени"
      ],
      "metadata": {
        "id": "ntLStmtobPHQ"
      }
    },
    {
      "cell_type": "code",
      "source": [
        "local_acceleration"
      ],
      "metadata": {
        "colab": {
          "base_uri": "https://localhost:8080/",
          "height": 78
        },
        "id": "1iybG64ZbJCf",
        "outputId": "ff9e7272-dfa8-4bdd-9eda-a28b3d3b0266"
      },
      "execution_count": 2,
      "outputs": [
        {
          "output_type": "execute_result",
          "data": {
            "text/plain": [
              "⎡y⎤\n",
              "⎢ ⎥\n",
              "⎢0⎥\n",
              "⎢ ⎥\n",
              "⎣0⎦"
            ],
            "text/latex": "$\\displaystyle \\left[\\begin{matrix}y\\\\0\\\\0\\end{matrix}\\right]$"
          },
          "metadata": {},
          "execution_count": 2
        }
      ]
    },
    {
      "cell_type": "markdown",
      "source": [
        "2. Конвективная пространственная (из-за движения)"
      ],
      "metadata": {
        "id": "sla5UJO1cBoZ"
      }
    },
    {
      "cell_type": "code",
      "source": [
        "convective_acceleration"
      ],
      "metadata": {
        "colab": {
          "base_uri": "https://localhost:8080/",
          "height": 78
        },
        "id": "O18pf6etbX4I",
        "outputId": "7b0b40d0-c147-4551-9b38-765d0ecc9363"
      },
      "execution_count": 3,
      "outputs": [
        {
          "output_type": "execute_result",
          "data": {
            "text/plain": [
              "⎡     0     ⎤\n",
              "⎢           ⎥\n",
              "⎢     0     ⎥\n",
              "⎢           ⎥\n",
              "⎣t⋅y + x + z⎦"
            ],
            "text/latex": "$\\displaystyle \\left[\\begin{matrix}0\\\\0\\\\t y + x + z\\end{matrix}\\right]$"
          },
          "metadata": {},
          "execution_count": 3
        }
      ]
    },
    {
      "cell_type": "markdown",
      "source": [
        "Полная производная = Сумма 1) и 2)"
      ],
      "metadata": {
        "id": "VvpaD_93cM3H"
      }
    },
    {
      "cell_type": "code",
      "source": [
        "total_acceleration"
      ],
      "metadata": {
        "colab": {
          "base_uri": "https://localhost:8080/",
          "height": 78
        },
        "id": "dzo4p6AZcTi1",
        "outputId": "4938a64f-e12c-4cf2-d7af-988e56eb8b12"
      },
      "execution_count": 4,
      "outputs": [
        {
          "output_type": "execute_result",
          "data": {
            "text/plain": [
              "⎡     y     ⎤\n",
              "⎢           ⎥\n",
              "⎢     0     ⎥\n",
              "⎢           ⎥\n",
              "⎣t⋅y + x + z⎦"
            ],
            "text/latex": "$\\displaystyle \\left[\\begin{matrix}y\\\\0\\\\t y + x + z\\end{matrix}\\right]$"
          },
          "metadata": {},
          "execution_count": 4
        }
      ]
    }
  ]
}